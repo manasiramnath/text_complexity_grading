{
 "cells": [
  {
   "cell_type": "markdown",
   "id": "61cd7c05",
   "metadata": {},
   "source": [
    "# News Cleaning From Lexis Nexis"
   ]
  },
  {
   "cell_type": "markdown",
   "id": "7c15bce8",
   "metadata": {},
   "source": [
    "<b> Search Terms: </b>\n",
    "\n",
    "abortion OR legislative bodies OR abortion laws OR pregnancy & childbirth OR reproductive rights OR abortion rights OR reproductive health clinics\n",
    "\n",
    "<b> Newspapers used: </b>\n",
    "\n",
    "1. New York Times\n",
    "2. USA Today and USA Today Online\n",
    "3. Newsweek\n",
    "4. The Politico\n",
    "5. Chicago The Daily Herald\n",
    "6. Florida Politics\n",
    "7. Tampa Bay Times\n",
    "\n",
    "<b> Timeline: </b>\n",
    "24 June 2022 - 24 July 2022"
   ]
  },
  {
   "cell_type": "code",
   "execution_count": 2,
   "id": "8f1beef7",
   "metadata": {},
   "outputs": [],
   "source": [
    "# Load libraries\n",
    "from striprtf.striprtf import rtf_to_text\n",
    "import pandas as pd\n",
    "import re\n",
    "import os\n",
    "\n",
    "# get current working directory to merge folder path\n",
    "current_dir = os.getcwd()"
   ]
  },
  {
   "cell_type": "code",
   "execution_count": 35,
   "id": "914b3d73",
   "metadata": {},
   "outputs": [],
   "source": [
    "# Function to clean articles\n",
    "def process_file(file_path):\n",
    "    with open(file_path) as infile:\n",
    "        content = infile.read()\n",
    "        text = rtf_to_text(content)\n",
    "        cleaned_text = re.sub(r'^.*?Body', 'Body', text, flags=re.DOTALL)\n",
    "        cleaned_text = cleaned_text.replace('Link to Image', '').replace('\\n', ' ').replace('End of Document', '').replace('Byline', '').replace('Body', '')\n",
    "        cleaned_text = cleaned_text.replace('( Florida Politics: http://floridapolitics.com Delivered by Newstex)','')\n",
    "        cleaned_text = re.sub(r'[^a-zA-Z0-9\\s]', '', cleaned_text)\n",
    "    return cleaned_text"
   ]
  },
  {
   "cell_type": "markdown",
   "id": "1987967f",
   "metadata": {},
   "source": [
    "### New York Times"
   ]
  },
  {
   "cell_type": "code",
   "execution_count": 13,
   "id": "32679146",
   "metadata": {},
   "outputs": [],
   "source": [
    "nyt_dta = []\n",
    "\n",
    "# Path to the folder containing NYT files\n",
    "folder_path = os.path.join(current_dir, 'data', 'NYT')\n",
    "\n",
    "\n",
    "for filename in os.listdir(folder_path):\n",
    "    if filename.endswith('.RTF'):\n",
    "        file_path = os.path.join(folder_path, filename)\n",
    "        cleaned_text = process_file(file_path)\n",
    "        file_name = os.path.splitext(filename)[0]\n",
    "        nyt_dta.append({'Article_Title': file_name, 'Body': cleaned_text})\n",
    "\n",
    "nyt = pd.DataFrame(nyt_dta)"
   ]
  },
  {
   "cell_type": "code",
   "execution_count": 14,
   "id": "1e67a7bf",
   "metadata": {},
   "outputs": [],
   "source": [
    "nyt['Publisher'] = 'New York Times'"
   ]
  },
  {
   "cell_type": "code",
   "execution_count": 15,
   "id": "f779458c",
   "metadata": {},
   "outputs": [
    {
     "data": {
      "text/html": [
       "<div>\n",
       "<style scoped>\n",
       "    .dataframe tbody tr th:only-of-type {\n",
       "        vertical-align: middle;\n",
       "    }\n",
       "\n",
       "    .dataframe tbody tr th {\n",
       "        vertical-align: top;\n",
       "    }\n",
       "\n",
       "    .dataframe thead th {\n",
       "        text-align: right;\n",
       "    }\n",
       "</style>\n",
       "<table border=\"1\" class=\"dataframe\">\n",
       "  <thead>\n",
       "    <tr style=\"text-align: right;\">\n",
       "      <th></th>\n",
       "      <th>Article_Title</th>\n",
       "      <th>Body</th>\n",
       "      <th>Publisher</th>\n",
       "    </tr>\n",
       "  </thead>\n",
       "  <tbody>\n",
       "    <tr>\n",
       "      <th>0</th>\n",
       "      <td>Here is how state abortion laws are changing</td>\n",
       "      <td>About half of all US states are expected to...</td>\n",
       "      <td>New York Times</td>\n",
       "    </tr>\n",
       "    <tr>\n",
       "      <th>1</th>\n",
       "      <td>An Abortion Rights Champion of the 1970s on Li...</td>\n",
       "      <td>Listen and follow The Daily Apple Podcasts ...</td>\n",
       "      <td>New York Times</td>\n",
       "    </tr>\n",
       "    <tr>\n",
       "      <th>2</th>\n",
       "      <td>'Disturbing' Views of Anti-Abortion Activists</td>\n",
       "      <td>Summary summary summary To the Editor    Re...</td>\n",
       "      <td>New York Times</td>\n",
       "    </tr>\n",
       "    <tr>\n",
       "      <th>3</th>\n",
       "      <td>How Mexico ’s Top Justice, Raised Catholic, Be...</td>\n",
       "      <td>Influenced by feminists close to him the ch...</td>\n",
       "      <td>New York Times</td>\n",
       "    </tr>\n",
       "    <tr>\n",
       "      <th>4</th>\n",
       "      <td>Where Does the Fight Over Abortion Rights Go A...</td>\n",
       "      <td>This article is part of the Debatable newsl...</td>\n",
       "      <td>New York Times</td>\n",
       "    </tr>\n",
       "  </tbody>\n",
       "</table>\n",
       "</div>"
      ],
      "text/plain": [
       "                                       Article_Title  \\\n",
       "0       Here is how state abortion laws are changing   \n",
       "1  An Abortion Rights Champion of the 1970s on Li...   \n",
       "2      'Disturbing' Views of Anti-Abortion Activists   \n",
       "3  How Mexico ’s Top Justice, Raised Catholic, Be...   \n",
       "4  Where Does the Fight Over Abortion Rights Go A...   \n",
       "\n",
       "                                                Body       Publisher  \n",
       "0     About half of all US states are expected to...  New York Times  \n",
       "1     Listen and follow The Daily Apple Podcasts ...  New York Times  \n",
       "2     Summary summary summary To the Editor    Re...  New York Times  \n",
       "3     Influenced by feminists close to him the ch...  New York Times  \n",
       "4     This article is part of the Debatable newsl...  New York Times  "
      ]
     },
     "execution_count": 15,
     "metadata": {},
     "output_type": "execute_result"
    }
   ],
   "source": [
    "nyt.head()"
   ]
  },
  {
   "cell_type": "markdown",
   "id": "1496bff5",
   "metadata": {},
   "source": [
    "### USA Today/Online"
   ]
  },
  {
   "cell_type": "code",
   "execution_count": 16,
   "id": "5c46fb0c",
   "metadata": {},
   "outputs": [],
   "source": [
    "us_dta = []\n",
    "\n",
    "# Path to the folder containing USA_Today files\n",
    "folder_path = os.path.join(current_dir, 'data', 'USA_Today')\n",
    "\n",
    "for filename in os.listdir(folder_path):\n",
    "    if filename.endswith('.RTF'):\n",
    "        file_path = os.path.join(folder_path, filename)\n",
    "        cleaned_text = process_file(file_path)\n",
    "        file_name = os.path.splitext(filename)[0]\n",
    "        us_dta.append({'Article_Title': file_name, 'Body': cleaned_text})\n",
    "\n",
    "usa_tday = pd.DataFrame(us_dta)"
   ]
  },
  {
   "cell_type": "code",
   "execution_count": 17,
   "id": "46880b4f",
   "metadata": {},
   "outputs": [],
   "source": [
    "usa_tday['Publisher'] = 'USA Today'"
   ]
  },
  {
   "cell_type": "code",
   "execution_count": 18,
   "id": "8856416b",
   "metadata": {},
   "outputs": [
    {
     "data": {
      "text/html": [
       "<div>\n",
       "<style scoped>\n",
       "    .dataframe tbody tr th:only-of-type {\n",
       "        vertical-align: middle;\n",
       "    }\n",
       "\n",
       "    .dataframe tbody tr th {\n",
       "        vertical-align: top;\n",
       "    }\n",
       "\n",
       "    .dataframe thead th {\n",
       "        text-align: right;\n",
       "    }\n",
       "</style>\n",
       "<table border=\"1\" class=\"dataframe\">\n",
       "  <thead>\n",
       "    <tr style=\"text-align: right;\">\n",
       "      <th></th>\n",
       "      <th>Article_Title</th>\n",
       "      <th>Body</th>\n",
       "      <th>Publisher</th>\n",
       "    </tr>\n",
       "  </thead>\n",
       "  <tbody>\n",
       "    <tr>\n",
       "      <th>0</th>\n",
       "      <td>Abortion foes see much more work ahead For man...</td>\n",
       "      <td>Fifteenyearold Elizabeth Reed had already m...</td>\n",
       "      <td>USA Today</td>\n",
       "    </tr>\n",
       "    <tr>\n",
       "      <th>1</th>\n",
       "      <td>Abortion rights must be line in sand as WNBA ,...</td>\n",
       "      <td>As American women seethe over the loss of t...</td>\n",
       "      <td>USA Today</td>\n",
       "    </tr>\n",
       "    <tr>\n",
       "      <th>2</th>\n",
       "      <td>After Roe v. Wade overturned, battle over abor...</td>\n",
       "      <td>The Supreme Courts watershed decision to ov...</td>\n",
       "      <td>USA Today</td>\n",
       "    </tr>\n",
       "    <tr>\n",
       "      <th>3</th>\n",
       "      <td>As more companies cover abortion travel in hea...</td>\n",
       "      <td>Even before the Supreme Court overturned Ro...</td>\n",
       "      <td>USA Today</td>\n",
       "    </tr>\n",
       "    <tr>\n",
       "      <th>4</th>\n",
       "      <td>'This is not over'_ Harris warns Supreme Court...</td>\n",
       "      <td>WASHINGTON  Vice President Kamala Harris wa...</td>\n",
       "      <td>USA Today</td>\n",
       "    </tr>\n",
       "  </tbody>\n",
       "</table>\n",
       "</div>"
      ],
      "text/plain": [
       "                                       Article_Title  \\\n",
       "0  Abortion foes see much more work ahead For man...   \n",
       "1  Abortion rights must be line in sand as WNBA ,...   \n",
       "2  After Roe v. Wade overturned, battle over abor...   \n",
       "3  As more companies cover abortion travel in hea...   \n",
       "4  'This is not over'_ Harris warns Supreme Court...   \n",
       "\n",
       "                                                Body  Publisher  \n",
       "0     Fifteenyearold Elizabeth Reed had already m...  USA Today  \n",
       "1     As American women seethe over the loss of t...  USA Today  \n",
       "2     The Supreme Courts watershed decision to ov...  USA Today  \n",
       "3     Even before the Supreme Court overturned Ro...  USA Today  \n",
       "4     WASHINGTON  Vice President Kamala Harris wa...  USA Today  "
      ]
     },
     "execution_count": 18,
     "metadata": {},
     "output_type": "execute_result"
    }
   ],
   "source": [
    "usa_tday.head()"
   ]
  },
  {
   "cell_type": "markdown",
   "id": "a144bb72",
   "metadata": {},
   "source": [
    "### Newsweek"
   ]
  },
  {
   "cell_type": "code",
   "execution_count": 19,
   "id": "bff03068",
   "metadata": {},
   "outputs": [],
   "source": [
    "newswk_dta = []\n",
    "\n",
    "# Path to the folder containing Newsweek files\n",
    "folder_path = os.path.join(current_dir, 'data', 'Newsweek')\n",
    "\n",
    "for filename in os.listdir(folder_path):\n",
    "    if filename.endswith('.RTF'):\n",
    "        file_path = os.path.join(folder_path, filename)\n",
    "        cleaned_text = process_file(file_path)\n",
    "        file_name = os.path.splitext(filename)[0]\n",
    "        newswk_dta.append({'Article_Title': file_name, 'Body': cleaned_text})\n",
    "\n",
    "newsweek = pd.DataFrame(newswk_dta)"
   ]
  },
  {
   "cell_type": "code",
   "execution_count": 20,
   "id": "bc3e1292",
   "metadata": {},
   "outputs": [],
   "source": [
    "newsweek['Publisher'] = 'Newsweek'"
   ]
  },
  {
   "cell_type": "code",
   "execution_count": 21,
   "id": "a3abdf0a",
   "metadata": {},
   "outputs": [
    {
     "data": {
      "text/html": [
       "<div>\n",
       "<style scoped>\n",
       "    .dataframe tbody tr th:only-of-type {\n",
       "        vertical-align: middle;\n",
       "    }\n",
       "\n",
       "    .dataframe tbody tr th {\n",
       "        vertical-align: top;\n",
       "    }\n",
       "\n",
       "    .dataframe thead th {\n",
       "        text-align: right;\n",
       "    }\n",
       "</style>\n",
       "<table border=\"1\" class=\"dataframe\">\n",
       "  <thead>\n",
       "    <tr style=\"text-align: right;\">\n",
       "      <th></th>\n",
       "      <th>Article_Title</th>\n",
       "      <th>Body</th>\n",
       "      <th>Publisher</th>\n",
       "    </tr>\n",
       "  </thead>\n",
       "  <tbody>\n",
       "    <tr>\n",
       "      <th>0</th>\n",
       "      <td>Democrats Can Save National Abortion Right on ...</td>\n",
       "      <td>Democrat lawmakers outraged by the Supreme ...</td>\n",
       "      <td>Newsweek</td>\n",
       "    </tr>\n",
       "    <tr>\n",
       "      <th>1</th>\n",
       "      <td>Democrats Want Google to Hide Care from Women ...</td>\n",
       "      <td>One of the many tragic ironies of the Lefts...</td>\n",
       "      <td>Newsweek</td>\n",
       "    </tr>\n",
       "    <tr>\n",
       "      <th>2</th>\n",
       "      <td>In Overturning Roe, the Supreme Court Has Enda...</td>\n",
       "      <td>Progressive women across America are rightf...</td>\n",
       "      <td>Newsweek</td>\n",
       "    </tr>\n",
       "    <tr>\n",
       "      <th>3</th>\n",
       "      <td>Tucker Carlson Fumes at Employers' Abortion Ai...</td>\n",
       "      <td>Fox News host Tucker Carlson is lashing out...</td>\n",
       "      <td>Newsweek</td>\n",
       "    </tr>\n",
       "    <tr>\n",
       "      <th>4</th>\n",
       "      <td>Who Is Lynn Fitch_ The Woman Who Helped Take D...</td>\n",
       "      <td>Mississippi Attorney General Lynn Fitch may...</td>\n",
       "      <td>Newsweek</td>\n",
       "    </tr>\n",
       "  </tbody>\n",
       "</table>\n",
       "</div>"
      ],
      "text/plain": [
       "                                       Article_Title  \\\n",
       "0  Democrats Can Save National Abortion Right on ...   \n",
       "1  Democrats Want Google to Hide Care from Women ...   \n",
       "2  In Overturning Roe, the Supreme Court Has Enda...   \n",
       "3  Tucker Carlson Fumes at Employers' Abortion Ai...   \n",
       "4  Who Is Lynn Fitch_ The Woman Who Helped Take D...   \n",
       "\n",
       "                                                Body Publisher  \n",
       "0     Democrat lawmakers outraged by the Supreme ...  Newsweek  \n",
       "1     One of the many tragic ironies of the Lefts...  Newsweek  \n",
       "2     Progressive women across America are rightf...  Newsweek  \n",
       "3     Fox News host Tucker Carlson is lashing out...  Newsweek  \n",
       "4     Mississippi Attorney General Lynn Fitch may...  Newsweek  "
      ]
     },
     "execution_count": 21,
     "metadata": {},
     "output_type": "execute_result"
    }
   ],
   "source": [
    "newsweek.head()"
   ]
  },
  {
   "cell_type": "markdown",
   "id": "9300025f",
   "metadata": {},
   "source": [
    "### Politico"
   ]
  },
  {
   "cell_type": "code",
   "execution_count": 22,
   "id": "559dd3c9",
   "metadata": {},
   "outputs": [],
   "source": [
    "polit_dta = []\n",
    "\n",
    "# Path to the folder containing Politico files\n",
    "folder_path = os.path.join(current_dir, 'data', 'Politico')\n",
    "\n",
    "for filename in os.listdir(folder_path):\n",
    "    if filename.endswith('.RTF'):\n",
    "        file_path = os.path.join(folder_path, filename)\n",
    "        cleaned_text = process_file(file_path)\n",
    "        file_name = os.path.splitext(filename)[0]\n",
    "        polit_dta.append({'Article_Title': file_name, 'Body': cleaned_text})\n",
    "\n",
    "politico = pd.DataFrame(polit_dta)"
   ]
  },
  {
   "cell_type": "code",
   "execution_count": 23,
   "id": "ff7ffb02",
   "metadata": {},
   "outputs": [],
   "source": [
    "politico['Publisher'] = 'The Politico'"
   ]
  },
  {
   "cell_type": "code",
   "execution_count": 24,
   "id": "01e4cb60",
   "metadata": {},
   "outputs": [
    {
     "data": {
      "text/html": [
       "<div>\n",
       "<style scoped>\n",
       "    .dataframe tbody tr th:only-of-type {\n",
       "        vertical-align: middle;\n",
       "    }\n",
       "\n",
       "    .dataframe tbody tr th {\n",
       "        vertical-align: top;\n",
       "    }\n",
       "\n",
       "    .dataframe thead th {\n",
       "        text-align: right;\n",
       "    }\n",
       "</style>\n",
       "<table border=\"1\" class=\"dataframe\">\n",
       "  <thead>\n",
       "    <tr style=\"text-align: right;\">\n",
       "      <th></th>\n",
       "      <th>Article_Title</th>\n",
       "      <th>Body</th>\n",
       "      <th>Publisher</th>\n",
       "    </tr>\n",
       "  </thead>\n",
       "  <tbody>\n",
       "    <tr>\n",
       "      <th>0</th>\n",
       "      <td>Democrats launch organizing hub to channel res...</td>\n",
       "      <td>Top Democratic campaign committees are laun...</td>\n",
       "      <td>The Politico</td>\n",
       "    </tr>\n",
       "    <tr>\n",
       "      <th>1</th>\n",
       "      <td>Democrats bet on abortion in bid to oust pro-i...</td>\n",
       "      <td>HANFORD Calif  Republican Rep David Valadao...</td>\n",
       "      <td>The Politico</td>\n",
       "    </tr>\n",
       "    <tr>\n",
       "      <th>2</th>\n",
       "      <td>National Right to Life official_ 10-year-old s...</td>\n",
       "      <td>The 10yearold Ohio girl who crossed state l...</td>\n",
       "      <td>The Politico</td>\n",
       "    </tr>\n",
       "    <tr>\n",
       "      <th>3</th>\n",
       "      <td>Opinion _ I Am a Man With a Genetic Condition....</td>\n",
       "      <td>In June when the Supreme Court voted to ove...</td>\n",
       "      <td>The Politico</td>\n",
       "    </tr>\n",
       "    <tr>\n",
       "      <th>4</th>\n",
       "      <td>What's next for virtual abortions post-Roe</td>\n",
       "      <td>Telehealth is set to play a crucial role fo...</td>\n",
       "      <td>The Politico</td>\n",
       "    </tr>\n",
       "  </tbody>\n",
       "</table>\n",
       "</div>"
      ],
      "text/plain": [
       "                                       Article_Title  \\\n",
       "0  Democrats launch organizing hub to channel res...   \n",
       "1  Democrats bet on abortion in bid to oust pro-i...   \n",
       "2  National Right to Life official_ 10-year-old s...   \n",
       "3  Opinion _ I Am a Man With a Genetic Condition....   \n",
       "4         What's next for virtual abortions post-Roe   \n",
       "\n",
       "                                                Body     Publisher  \n",
       "0     Top Democratic campaign committees are laun...  The Politico  \n",
       "1     HANFORD Calif  Republican Rep David Valadao...  The Politico  \n",
       "2     The 10yearold Ohio girl who crossed state l...  The Politico  \n",
       "3     In June when the Supreme Court voted to ove...  The Politico  \n",
       "4     Telehealth is set to play a crucial role fo...  The Politico  "
      ]
     },
     "execution_count": 24,
     "metadata": {},
     "output_type": "execute_result"
    }
   ],
   "source": [
    "politico.head()"
   ]
  },
  {
   "cell_type": "markdown",
   "id": "c54a430f",
   "metadata": {},
   "source": [
    "### Chicago Daily Herald"
   ]
  },
  {
   "cell_type": "code",
   "execution_count": 25,
   "id": "aa89c6a9",
   "metadata": {},
   "outputs": [],
   "source": [
    "chi_dta = []\n",
    "\n",
    "# Path to the folder containing Chicago Herald files\n",
    "folder_path = os.path.join(current_dir, 'data', 'Chicago_Herald')\n",
    "\n",
    "for filename in os.listdir(folder_path):\n",
    "    if filename.endswith('.RTF'):\n",
    "        file_path = os.path.join(folder_path, filename)\n",
    "        cleaned_text = process_file(file_path)\n",
    "        file_name = os.path.splitext(filename)[0]\n",
    "        chi_dta.append({'Article_Title': file_name, 'Body': cleaned_text})\n",
    "\n",
    "chicago_herald = pd.DataFrame(chi_dta)"
   ]
  },
  {
   "cell_type": "code",
   "execution_count": 26,
   "id": "9b195c9a",
   "metadata": {},
   "outputs": [],
   "source": [
    "chicago_herald['Publisher'] = 'Chicago Daily Herald'"
   ]
  },
  {
   "cell_type": "code",
   "execution_count": 27,
   "id": "32c2184f",
   "metadata": {},
   "outputs": [
    {
     "data": {
      "text/html": [
       "<div>\n",
       "<style scoped>\n",
       "    .dataframe tbody tr th:only-of-type {\n",
       "        vertical-align: middle;\n",
       "    }\n",
       "\n",
       "    .dataframe tbody tr th {\n",
       "        vertical-align: top;\n",
       "    }\n",
       "\n",
       "    .dataframe thead th {\n",
       "        text-align: right;\n",
       "    }\n",
       "</style>\n",
       "<table border=\"1\" class=\"dataframe\">\n",
       "  <thead>\n",
       "    <tr style=\"text-align: right;\">\n",
       "      <th></th>\n",
       "      <th>Article_Title</th>\n",
       "      <th>Body</th>\n",
       "      <th>Publisher</th>\n",
       "    </tr>\n",
       "  </thead>\n",
       "  <tbody>\n",
       "    <tr>\n",
       "      <th>0</th>\n",
       "      <td>Biden signs order on abortion access after Sup...</td>\n",
       "      <td>WASHINGTON  President Joe Biden signed an e...</td>\n",
       "      <td>Chicago Daily Herald</td>\n",
       "    </tr>\n",
       "    <tr>\n",
       "      <th>1</th>\n",
       "      <td>Police at Arizona Capitol fire tear gas</td>\n",
       "      <td>PHOENIX  Police fired tear gas to disperse ...</td>\n",
       "      <td>Chicago Daily Herald</td>\n",
       "    </tr>\n",
       "    <tr>\n",
       "      <th>2</th>\n",
       "      <td>Poll_ Most in U.S. want abortion legal</td>\n",
       "      <td>WASHINGTON  A majority of Americans say Con...</td>\n",
       "      <td>Chicago Daily Herald</td>\n",
       "    </tr>\n",
       "    <tr>\n",
       "      <th>3</th>\n",
       "      <td>Doctor sets up abortion services in Rockford t...</td>\n",
       "      <td>ROCKFORD  A Wisconsin doctor has purchased ...</td>\n",
       "      <td>Chicago Daily Herald</td>\n",
       "    </tr>\n",
       "    <tr>\n",
       "      <th>4</th>\n",
       "      <td>Illinois ' neighbors move quickly to ban abort...</td>\n",
       "      <td>Two of the five states bordering Illinois h...</td>\n",
       "      <td>Chicago Daily Herald</td>\n",
       "    </tr>\n",
       "  </tbody>\n",
       "</table>\n",
       "</div>"
      ],
      "text/plain": [
       "                                       Article_Title  \\\n",
       "0  Biden signs order on abortion access after Sup...   \n",
       "1            Police at Arizona Capitol fire tear gas   \n",
       "2             Poll_ Most in U.S. want abortion legal   \n",
       "3  Doctor sets up abortion services in Rockford t...   \n",
       "4  Illinois ' neighbors move quickly to ban abort...   \n",
       "\n",
       "                                                Body             Publisher  \n",
       "0     WASHINGTON  President Joe Biden signed an e...  Chicago Daily Herald  \n",
       "1     PHOENIX  Police fired tear gas to disperse ...  Chicago Daily Herald  \n",
       "2     WASHINGTON  A majority of Americans say Con...  Chicago Daily Herald  \n",
       "3     ROCKFORD  A Wisconsin doctor has purchased ...  Chicago Daily Herald  \n",
       "4     Two of the five states bordering Illinois h...  Chicago Daily Herald  "
      ]
     },
     "execution_count": 27,
     "metadata": {},
     "output_type": "execute_result"
    }
   ],
   "source": [
    "chicago_herald.head()"
   ]
  },
  {
   "cell_type": "markdown",
   "id": "f709b9f9",
   "metadata": {},
   "source": [
    "### Florida Politics"
   ]
  },
  {
   "cell_type": "code",
   "execution_count": 28,
   "id": "fa422a89",
   "metadata": {},
   "outputs": [],
   "source": [
    "flo_pol = []\n",
    "\n",
    "# Path to the folder containing Florida Politic files\n",
    "folder_path = os.path.join(current_dir, 'data', 'Florida_Politics')\n",
    "\n",
    "for filename in os.listdir(folder_path):\n",
    "    if filename.endswith('.RTF'):\n",
    "        file_path = os.path.join(folder_path, filename)\n",
    "        cleaned_text = process_file(file_path)\n",
    "        file_name = os.path.splitext(filename)[0]\n",
    "        flo_pol.append({'Article_Title': file_name, 'Body': cleaned_text})\n",
    "\n",
    "florida_politics = pd.DataFrame(flo_pol)"
   ]
  },
  {
   "cell_type": "code",
   "execution_count": 29,
   "id": "e1319e32",
   "metadata": {},
   "outputs": [],
   "source": [
    "florida_politics['Publisher'] = 'Florida Politics'"
   ]
  },
  {
   "cell_type": "code",
   "execution_count": 30,
   "id": "65225c49",
   "metadata": {},
   "outputs": [
    {
     "data": {
      "text/html": [
       "<div>\n",
       "<style scoped>\n",
       "    .dataframe tbody tr th:only-of-type {\n",
       "        vertical-align: middle;\n",
       "    }\n",
       "\n",
       "    .dataframe tbody tr th {\n",
       "        vertical-align: top;\n",
       "    }\n",
       "\n",
       "    .dataframe thead th {\n",
       "        text-align: right;\n",
       "    }\n",
       "</style>\n",
       "<table border=\"1\" class=\"dataframe\">\n",
       "  <thead>\n",
       "    <tr style=\"text-align: right;\">\n",
       "      <th></th>\n",
       "      <th>Article_Title</th>\n",
       "      <th>Body</th>\n",
       "      <th>Publisher</th>\n",
       "    </tr>\n",
       "  </thead>\n",
       "  <tbody>\n",
       "    <tr>\n",
       "      <th>0</th>\n",
       "      <td>Diagnosis for 7.18.22_ Checking the pulse of F...</td>\n",
       "      <td>Jul 18 2022    Welcome back to Diagnosis a ...</td>\n",
       "      <td>Florida Politics</td>\n",
       "    </tr>\n",
       "    <tr>\n",
       "      <th>1</th>\n",
       "      <td>'Emergency' Friday evening abortion rights ral...</td>\n",
       "      <td>Jun 24 2022    This is a major loss for gen...</td>\n",
       "      <td>Florida Politics</td>\n",
       "    </tr>\n",
       "    <tr>\n",
       "      <th>2</th>\n",
       "      <td>Tampa Bay officials protest, react to Roe v. W...</td>\n",
       "      <td>Jun 25 2022    The Supreme Court1 has nulli...</td>\n",
       "      <td>Florida Politics</td>\n",
       "    </tr>\n",
       "    <tr>\n",
       "      <th>3</th>\n",
       "      <td>Ruth's List Florida backs Patricia Hawkins-Wil...</td>\n",
       "      <td>Jul 05 2022    Abortion rights group Ruths ...</td>\n",
       "      <td>Florida Politics</td>\n",
       "    </tr>\n",
       "    <tr>\n",
       "      <th>4</th>\n",
       "      <td>AP-NORC poll_ Abortion, women's rights grow as...</td>\n",
       "      <td>Jul 02 2022    A new poll finds a growing p...</td>\n",
       "      <td>Florida Politics</td>\n",
       "    </tr>\n",
       "  </tbody>\n",
       "</table>\n",
       "</div>"
      ],
      "text/plain": [
       "                                       Article_Title  \\\n",
       "0  Diagnosis for 7.18.22_ Checking the pulse of F...   \n",
       "1  'Emergency' Friday evening abortion rights ral...   \n",
       "2  Tampa Bay officials protest, react to Roe v. W...   \n",
       "3  Ruth's List Florida backs Patricia Hawkins-Wil...   \n",
       "4  AP-NORC poll_ Abortion, women's rights grow as...   \n",
       "\n",
       "                                                Body         Publisher  \n",
       "0     Jul 18 2022    Welcome back to Diagnosis a ...  Florida Politics  \n",
       "1     Jun 24 2022    This is a major loss for gen...  Florida Politics  \n",
       "2     Jun 25 2022    The Supreme Court1 has nulli...  Florida Politics  \n",
       "3     Jul 05 2022    Abortion rights group Ruths ...  Florida Politics  \n",
       "4     Jul 02 2022    A new poll finds a growing p...  Florida Politics  "
      ]
     },
     "execution_count": 30,
     "metadata": {},
     "output_type": "execute_result"
    }
   ],
   "source": [
    "florida_politics.head()"
   ]
  },
  {
   "cell_type": "markdown",
   "id": "29795766",
   "metadata": {},
   "source": [
    "### Tampa Bay Times"
   ]
  },
  {
   "cell_type": "code",
   "execution_count": 31,
   "id": "c80ae76a",
   "metadata": {},
   "outputs": [],
   "source": [
    "tamp = []\n",
    "\n",
    "# Path to the folder containing Tampa Bay files\n",
    "folder_path = os.path.join(current_dir, 'data', 'Tampa_Bay')\n",
    "\n",
    "for filename in os.listdir(folder_path):\n",
    "    if filename.endswith('.RTF'):\n",
    "        file_path = os.path.join(folder_path, filename)\n",
    "        cleaned_text = process_file(file_path)\n",
    "        file_name = os.path.splitext(filename)[0]\n",
    "        tamp.append({'Article_Title': file_name, 'Body': cleaned_text})\n",
    "\n",
    "tampa_bay = pd.DataFrame(tamp)"
   ]
  },
  {
   "cell_type": "code",
   "execution_count": 32,
   "id": "e3c85e8d",
   "metadata": {},
   "outputs": [],
   "source": [
    "tampa_bay['Publisher'] = 'Tampa Bay Times'"
   ]
  },
  {
   "cell_type": "code",
   "execution_count": 33,
   "id": "ef45c9a7",
   "metadata": {
    "scrolled": true
   },
   "outputs": [
    {
     "data": {
      "text/html": [
       "<div>\n",
       "<style scoped>\n",
       "    .dataframe tbody tr th:only-of-type {\n",
       "        vertical-align: middle;\n",
       "    }\n",
       "\n",
       "    .dataframe tbody tr th {\n",
       "        vertical-align: top;\n",
       "    }\n",
       "\n",
       "    .dataframe thead th {\n",
       "        text-align: right;\n",
       "    }\n",
       "</style>\n",
       "<table border=\"1\" class=\"dataframe\">\n",
       "  <thead>\n",
       "    <tr style=\"text-align: right;\">\n",
       "      <th></th>\n",
       "      <th>Article_Title</th>\n",
       "      <th>Body</th>\n",
       "      <th>Publisher</th>\n",
       "    </tr>\n",
       "  </thead>\n",
       "  <tbody>\n",
       "    <tr>\n",
       "      <th>0</th>\n",
       "      <td>Many states are looking toward abortion bans w...</td>\n",
       "      <td>Most of the states that have acted quickly ...</td>\n",
       "      <td>Tampa Bay Times</td>\n",
       "    </tr>\n",
       "    <tr>\n",
       "      <th>1</th>\n",
       "      <td>House making 1st attempt to protect abortion i...</td>\n",
       "      <td>WASHINGTON  The House on Friday is expected...</td>\n",
       "      <td>Tampa Bay Times</td>\n",
       "    </tr>\n",
       "    <tr>\n",
       "      <th>2</th>\n",
       "      <td>What do Americans think about abortion policy_...</td>\n",
       "      <td>The political fallout from the Supreme Cour...</td>\n",
       "      <td>Tampa Bay Times</td>\n",
       "    </tr>\n",
       "    <tr>\n",
       "      <th>3</th>\n",
       "      <td>I wish my Catholic Church would support contra...</td>\n",
       "      <td>For 95 years my mother Shirley Clark was a ...</td>\n",
       "      <td>Tampa Bay Times</td>\n",
       "    </tr>\n",
       "    <tr>\n",
       "      <th>4</th>\n",
       "      <td>Florida reacts to Roe v. Wade overturn by Supr...</td>\n",
       "      <td>The US Supreme Court overturned Roe v Wade ...</td>\n",
       "      <td>Tampa Bay Times</td>\n",
       "    </tr>\n",
       "  </tbody>\n",
       "</table>\n",
       "</div>"
      ],
      "text/plain": [
       "                                       Article_Title  \\\n",
       "0  Many states are looking toward abortion bans w...   \n",
       "1  House making 1st attempt to protect abortion i...   \n",
       "2  What do Americans think about abortion policy_...   \n",
       "3  I wish my Catholic Church would support contra...   \n",
       "4  Florida reacts to Roe v. Wade overturn by Supr...   \n",
       "\n",
       "                                                Body        Publisher  \n",
       "0     Most of the states that have acted quickly ...  Tampa Bay Times  \n",
       "1     WASHINGTON  The House on Friday is expected...  Tampa Bay Times  \n",
       "2     The political fallout from the Supreme Cour...  Tampa Bay Times  \n",
       "3     For 95 years my mother Shirley Clark was a ...  Tampa Bay Times  \n",
       "4     The US Supreme Court overturned Roe v Wade ...  Tampa Bay Times  "
      ]
     },
     "execution_count": 33,
     "metadata": {},
     "output_type": "execute_result"
    }
   ],
   "source": [
    "tampa_bay.head()"
   ]
  },
  {
   "cell_type": "code",
   "execution_count": 34,
   "id": "f119afc7",
   "metadata": {},
   "outputs": [],
   "source": [
    "news = pd.concat([nyt,usa_tday,newsweek,politico,chicago_herald,florida_politics,tampa_bay],ignore_index = True)"
   ]
  },
  {
   "cell_type": "code",
   "execution_count": 36,
   "id": "9b5115d6",
   "metadata": {},
   "outputs": [
    {
     "name": "stderr",
     "output_type": "stream",
     "text": [
      "[nltk_data] Downloading package stopwords to\n",
      "[nltk_data]     /Users/manasi/nltk_data...\n",
      "[nltk_data]   Package stopwords is already up-to-date!\n"
     ]
    }
   ],
   "source": [
    "import nltk\n",
    "from nltk.corpus import stopwords\n",
    "nltk.download('stopwords')\n",
    "from nltk.stem import WordNetLemmatizer\n",
    "from nltk.corpus import wordnet\n",
    "import sys  \n",
    "import contractions\n",
    "from sklearn.feature_extraction.text import TfidfVectorizer, CountVectorizer"
   ]
  },
  {
   "cell_type": "code",
   "execution_count": 37,
   "id": "cd22a4c7",
   "metadata": {},
   "outputs": [],
   "source": [
    "#initialising stopwords\n",
    "all_stopwords = stopwords.words('english')\n",
    "\n",
    "#create POS tagging and initialise lemmatizer\n",
    "def get_wordnet_pos(word):\n",
    "    \"\"\"Maps two-letter POS tag to a WordNet POS tag\"\"\"\n",
    "    tag = nltk.pos_tag([word])[0][1][0].upper()\n",
    "    tag_dict = {\"J\": wordnet.ADJ,\n",
    "                \"N\": wordnet.NOUN,\n",
    "                \"V\": wordnet.VERB,\n",
    "                \"R\": wordnet.ADV}\n",
    "\n",
    "    return tag_dict.get(tag, wordnet.NOUN) #if not one of four tags, default to noun tag\n",
    "\n",
    "lemmatizer = WordNetLemmatizer()"
   ]
  },
  {
   "cell_type": "code",
   "execution_count": 38,
   "id": "12ff7834",
   "metadata": {},
   "outputs": [],
   "source": [
    "cleaned_text = [] #creating empty list to store cleaned reviews\n",
    "for text in news.iterrows():\n",
    "    sent= text[1]['Body']\n",
    "    sent= sent.lower() #convert to lowercase\n",
    "    sent= contractions.fix(sent) #expands contractions\n",
    "    sent= re.sub(r'[^a-zA-Z0-9]', ' ', sent) #removes punctuation and non-alphabetic characters, substitutes with space \n",
    "    \n",
    "    words=nltk.word_tokenize(sent) #tokenizes string to a bag of words\n",
    "    words= [i for i in words if not i in all_stopwords] #remove stopwords\n",
    "    words= [lemmatizer.lemmatize(word,get_wordnet_pos(word)) for word in words] #lemmatize \n",
    "    sent= ' '.join(words) #join back \n",
    "    cleaned_text.append(sent) # append the cleaned text to the list\n",
    "    \n",
    "news['cleaned_text'] = cleaned_text"
   ]
  }
 ],
 "metadata": {
  "kernelspec": {
   "display_name": "Python 3 (ipykernel)",
   "language": "python",
   "name": "python3"
  },
  "language_info": {
   "codemirror_mode": {
    "name": "ipython",
    "version": 3
   },
   "file_extension": ".py",
   "mimetype": "text/x-python",
   "name": "python",
   "nbconvert_exporter": "python",
   "pygments_lexer": "ipython3",
   "version": "3.11.4"
  }
 },
 "nbformat": 4,
 "nbformat_minor": 5
}
